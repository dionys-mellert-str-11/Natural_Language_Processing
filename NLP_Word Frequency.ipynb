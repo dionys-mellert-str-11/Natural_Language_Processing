{
 "cells": [
  {
   "cell_type": "code",
   "execution_count": 1,
   "metadata": {},
   "outputs": [],
   "source": [
    "#call libraries\n",
    "import re\n",
    "import numpy as np\n",
    "import pandas as pd\n",
    "import seaborn as sns\n",
    "import nltk\n",
    "import matplotlib.pyplot as plt"
   ]
  },
  {
   "cell_type": "code",
   "execution_count": 3,
   "metadata": {},
   "outputs": [],
   "source": [
    "#call libraries\n",
    "from nltk.corpus import stopwords\n",
    "from nltk import FreqDist\n",
    "from nltk.stem import WordNetLemmatizer\n",
    "from nltk import word_tokenize, sent_tokenize"
   ]
  },
  {
   "cell_type": "code",
   "execution_count": 4,
   "metadata": {},
   "outputs": [],
   "source": [
    "#load the data\n",
    "import os\n",
    "\n",
    "os.getcwd()\n",
    "\n",
    "os.chdir(r'C:\\\\Users\\\\he1108434\\\\Downloads')\n",
    "\n",
    "excel_file = 'finding_2019.xlsx'\n",
    "dataframe = pd.read_excel(excel_file)"
   ]
  },
  {
   "cell_type": "code",
   "execution_count": 5,
   "metadata": {},
   "outputs": [
    {
     "data": {
      "text/html": [
       "<div>\n",
       "<style scoped>\n",
       "    .dataframe tbody tr th:only-of-type {\n",
       "        vertical-align: middle;\n",
       "    }\n",
       "\n",
       "    .dataframe tbody tr th {\n",
       "        vertical-align: top;\n",
       "    }\n",
       "\n",
       "    .dataframe thead th {\n",
       "        text-align: right;\n",
       "    }\n",
       "</style>\n",
       "<table border=\"1\" class=\"dataframe\">\n",
       "  <thead>\n",
       "    <tr style=\"text-align: right;\">\n",
       "      <th></th>\n",
       "      <th>fertigungsdatum</th>\n",
       "      <th>schichtbezeichnung</th>\n",
       "      <th>heizunggruppebezeichnung</th>\n",
       "      <th>namelinie</th>\n",
       "      <th>bereich</th>\n",
       "      <th>fehlermenge</th>\n",
       "      <th>position_fehler</th>\n",
       "      <th>fehlercode</th>\n",
       "      <th>fehlergruppe</th>\n",
       "      <th>teilekategorie</th>\n",
       "      <th>fehler</th>\n",
       "      <th>analysedatenbemerkung</th>\n",
       "      <th>verursacherbezeichnung</th>\n",
       "      <th>analyseergebnisbezeichnung</th>\n",
       "      <th>ergebnis_linie</th>\n",
       "    </tr>\n",
       "  </thead>\n",
       "  <tbody>\n",
       "    <tr>\n",
       "      <th>0</th>\n",
       "      <td>2019-12-18</td>\n",
       "      <td>C</td>\n",
       "      <td>HV 3G - RSA (Renault)</td>\n",
       "      <td>Hochvolt EDH4</td>\n",
       "      <td>HV</td>\n",
       "      <td>1</td>\n",
       "      <td>NaN</td>\n",
       "      <td>J18a</td>\n",
       "      <td>Hochvolt</td>\n",
       "      <td>Heizungsgehäuse</td>\n",
       "      <td>Durchschlagfestigkeit Heizergehäuse</td>\n",
       "      <td>15V /0,00411mA / Zu viel kleber seiltich;</td>\n",
       "      <td>BG Vorprüfung (HV ISO)</td>\n",
       "      <td>Nacharbeit extern</td>\n",
       "      <td>nio</td>\n",
       "    </tr>\n",
       "    <tr>\n",
       "      <th>1</th>\n",
       "      <td>2019-12-18</td>\n",
       "      <td>F</td>\n",
       "      <td>HV 3G - HEW</td>\n",
       "      <td>Hochvolt EDH4</td>\n",
       "      <td>HV</td>\n",
       "      <td>1</td>\n",
       "      <td>NaN</td>\n",
       "      <td>J18a</td>\n",
       "      <td>Hochvolt</td>\n",
       "      <td>Heizungsgehäuse</td>\n",
       "      <td>Durchschlagfestigkeit Heizergehäuse</td>\n",
       "      <td>2697V /0,1mA / Zu viel kleber seiltich;</td>\n",
       "      <td>BG Vorprüfung (HV ISO)</td>\n",
       "      <td>Nacharbeit extern</td>\n",
       "      <td>nio</td>\n",
       "    </tr>\n",
       "    <tr>\n",
       "      <th>2</th>\n",
       "      <td>2019-12-18</td>\n",
       "      <td>F</td>\n",
       "      <td>HV 3G - HEW</td>\n",
       "      <td>Hochvolt EDH4</td>\n",
       "      <td>HV</td>\n",
       "      <td>1</td>\n",
       "      <td>NaN</td>\n",
       "      <td>J18a</td>\n",
       "      <td>Hochvolt</td>\n",
       "      <td>Heizungsgehäuse</td>\n",
       "      <td>Durchschlagfestigkeit Heizergehäuse</td>\n",
       "      <td>2608V /0,3mA / iso Folie seitlich gerissen;</td>\n",
       "      <td>BG Vorprüfung (HV ISO)</td>\n",
       "      <td>Nacharbeit extern</td>\n",
       "      <td>nio</td>\n",
       "    </tr>\n",
       "    <tr>\n",
       "      <th>3</th>\n",
       "      <td>2019-12-18</td>\n",
       "      <td>F</td>\n",
       "      <td>HV 3G - HEW</td>\n",
       "      <td>Hochvolt EDH4</td>\n",
       "      <td>HV</td>\n",
       "      <td>1</td>\n",
       "      <td>NaN</td>\n",
       "      <td>J18a</td>\n",
       "      <td>Hochvolt</td>\n",
       "      <td>Heizungsgehäuse</td>\n",
       "      <td>Durchschlagfestigkeit Heizergehäuse</td>\n",
       "      <td>15V /4,1mA / iso Elektra unter Folie beschädigt;</td>\n",
       "      <td>BG Vorprüfung (HV ISO)</td>\n",
       "      <td>Nacharbeit extern</td>\n",
       "      <td>nio</td>\n",
       "    </tr>\n",
       "    <tr>\n",
       "      <th>4</th>\n",
       "      <td>2019-12-18</td>\n",
       "      <td>F</td>\n",
       "      <td>HV 3G - Basis Heizer</td>\n",
       "      <td>Hochvolt EDH4</td>\n",
       "      <td>HV</td>\n",
       "      <td>1</td>\n",
       "      <td>NaN</td>\n",
       "      <td>J18a</td>\n",
       "      <td>Hochvolt</td>\n",
       "      <td>Heizungsgehäuse</td>\n",
       "      <td>Durchschlagfestigkeit Heizergehäuse</td>\n",
       "      <td>1672V /0,3mA / Durchschlag an Kontaktblech oben;</td>\n",
       "      <td>BG Vorprüfung (HV ISO)</td>\n",
       "      <td>Nacharbeit extern</td>\n",
       "      <td>nio</td>\n",
       "    </tr>\n",
       "  </tbody>\n",
       "</table>\n",
       "</div>"
      ],
      "text/plain": [
       "  fertigungsdatum schichtbezeichnung heizunggruppebezeichnung      namelinie  \\\n",
       "0      2019-12-18                  C    HV 3G - RSA (Renault)  Hochvolt EDH4   \n",
       "1      2019-12-18                  F              HV 3G - HEW  Hochvolt EDH4   \n",
       "2      2019-12-18                  F              HV 3G - HEW  Hochvolt EDH4   \n",
       "3      2019-12-18                  F              HV 3G - HEW  Hochvolt EDH4   \n",
       "4      2019-12-18                  F     HV 3G - Basis Heizer  Hochvolt EDH4   \n",
       "\n",
       "  bereich  fehlermenge  position_fehler fehlercode fehlergruppe  \\\n",
       "0      HV            1              NaN       J18a     Hochvolt   \n",
       "1      HV            1              NaN       J18a     Hochvolt   \n",
       "2      HV            1              NaN       J18a     Hochvolt   \n",
       "3      HV            1              NaN       J18a     Hochvolt   \n",
       "4      HV            1              NaN       J18a     Hochvolt   \n",
       "\n",
       "    teilekategorie                               fehler  \\\n",
       "0  Heizungsgehäuse  Durchschlagfestigkeit Heizergehäuse   \n",
       "1  Heizungsgehäuse  Durchschlagfestigkeit Heizergehäuse   \n",
       "2  Heizungsgehäuse  Durchschlagfestigkeit Heizergehäuse   \n",
       "3  Heizungsgehäuse  Durchschlagfestigkeit Heizergehäuse   \n",
       "4  Heizungsgehäuse  Durchschlagfestigkeit Heizergehäuse   \n",
       "\n",
       "                              analysedatenbemerkung  verursacherbezeichnung  \\\n",
       "0         15V /0,00411mA / Zu viel kleber seiltich;  BG Vorprüfung (HV ISO)   \n",
       "1           2697V /0,1mA / Zu viel kleber seiltich;  BG Vorprüfung (HV ISO)   \n",
       "2       2608V /0,3mA / iso Folie seitlich gerissen;  BG Vorprüfung (HV ISO)   \n",
       "3  15V /4,1mA / iso Elektra unter Folie beschädigt;  BG Vorprüfung (HV ISO)   \n",
       "4  1672V /0,3mA / Durchschlag an Kontaktblech oben;  BG Vorprüfung (HV ISO)   \n",
       "\n",
       "  analyseergebnisbezeichnung ergebnis_linie  \n",
       "0          Nacharbeit extern            nio  \n",
       "1          Nacharbeit extern            nio  \n",
       "2          Nacharbeit extern            nio  \n",
       "3          Nacharbeit extern            nio  \n",
       "4          Nacharbeit extern            nio  "
      ]
     },
     "execution_count": 5,
     "metadata": {},
     "output_type": "execute_result"
    }
   ],
   "source": [
    "dataframe.head()"
   ]
  },
  {
   "cell_type": "code",
   "execution_count": 6,
   "metadata": {},
   "outputs": [],
   "source": [
    "#create function to select most frequent words\n",
    "\n",
    "def freq_words(text_data, terms):\n",
    "    all_words = ' '.join([str(text) for text in text_data])\n",
    "    all_words = all_words.split()\n",
    "    \n",
    "    fdist = FreqDist(all_words)\n",
    "    words_df = pd.DataFrame({'word':list(fdist.keys()), 'count':list(fdist.values())})\n",
    "    \n",
    "    #selecting top 20 most frequent words\n",
    "    most_frequent_word = words_df.nlargest(columns='count', n=terms)\n",
    "    plt.figure(figsize=(20,5))\n",
    "    ax = sns.barplot(data=most_frequent_word, x='word', y='count')\n",
    "    ax.set(ylabel='Count')\n",
    "    plt.show()"
   ]
  },
  {
   "cell_type": "code",
   "execution_count": 7,
   "metadata": {},
   "outputs": [
    {
     "data": {
      "image/png": "[encoded data removed]",
      "text/plain": [
       "<Figure size 1440x360 with 1 Axes>"
      ]
     },
     "metadata": {
      "needs_background": "light"
     },
     "output_type": "display_data"
    }
   ],
   "source": [
    "#raw data without cleaning\n",
    "\n",
    "freq_words(dataframe['analysedatenbemerkung'], terms=20)"
   ]
  },
  {
   "cell_type": "code",
   "execution_count": 8,
   "metadata": {},
   "outputs": [],
   "source": [
    "import copy"
   ]
  },
  {
   "cell_type": "code",
   "execution_count": 9,
   "metadata": {},
   "outputs": [],
   "source": [
    "raw_docs = copy.deepcopy(dataframe['analysedatenbemerkung'])"
   ]
  },
  {
   "cell_type": "code",
   "execution_count": 10,
   "metadata": {},
   "outputs": [
    {
     "data": {
      "text/plain": [
       "0           15V /0,00411mA / Zu viel kleber seiltich;\n",
       "1             2697V /0,1mA / Zu viel kleber seiltich;\n",
       "2         2608V /0,3mA / iso Folie seitlich gerissen;\n",
       "3    15V /4,1mA / iso Elektra unter Folie beschädigt;\n",
       "4    1672V /0,3mA / Durchschlag an Kontaktblech oben;\n",
       "Name: analysedatenbemerkung, dtype: object"
      ]
     },
     "execution_count": 10,
     "metadata": {},
     "output_type": "execute_result"
    }
   ],
   "source": [
    "raw_docs.head()"
   ]
  },
  {
   "cell_type": "code",
   "execution_count": 11,
   "metadata": {},
   "outputs": [
    {
     "name": "stderr",
     "output_type": "stream",
     "text": [
      "<ipython-input-11-561cf8b797d6>:3: FutureWarning: The default value of regex will change from True to False in a future version.\n",
      "  raw_docs = raw_docs.str.replace('[^\\w\\s]','')\n"
     ]
    }
   ],
   "source": [
    "#remove punctuation\n",
    "\n",
    "raw_docs = raw_docs.str.replace('[^\\w\\s]','')"
   ]
  },
  {
   "cell_type": "code",
   "execution_count": 12,
   "metadata": {},
   "outputs": [
    {
     "data": {
      "image/png": "[encoded data removed]",
      "text/plain": [
       "<Figure size 1440x360 with 1 Axes>"
      ]
     },
     "metadata": {
      "needs_background": "light"
     },
     "output_type": "display_data"
    }
   ],
   "source": [
    "freq_words(raw_docs, terms=20)"
   ]
  },
  {
   "cell_type": "code",
   "execution_count": 13,
   "metadata": {},
   "outputs": [],
   "source": [
    "#remove german stopwords\n",
    "\n",
    "from nltk.corpus import stopwords\n",
    "from sklearn.feature_extraction.text import CountVectorizer\n",
    "\n",
    "german_stop_words = stopwords.words('german')"
   ]
  },
  {
   "cell_type": "code",
   "execution_count": 14,
   "metadata": {},
   "outputs": [],
   "source": [
    "def stop_word_removal(x):\n",
    "    token = x.split()\n",
    "    return ' '.join([w for w in token if not w in german_stop_words])\n",
    "\n",
    "raw_docs = raw_docs.apply(stop_word_removal)"
   ]
  },
  {
   "cell_type": "code",
   "execution_count": 15,
   "metadata": {},
   "outputs": [
    {
     "data": {
      "image/png": "[encoded data removed]",
      "text/plain": [
       "<Figure size 1440x360 with 1 Axes>"
      ]
     },
     "metadata": {
      "needs_background": "light"
     },
     "output_type": "display_data"
    }
   ],
   "source": [
    "freq_words(raw_docs, terms=20)"
   ]
  },
  {
   "cell_type": "code",
   "execution_count": 16,
   "metadata": {},
   "outputs": [],
   "source": [
    "#extract words based on vectorizer\n",
    "\n",
    "from sklearn.feature_extraction.text import CountVectorizer\n",
    "\n",
    "count_vect = CountVectorizer(max_df=0.8, min_df=2)\n",
    "doc_term_matrix = count_vect.fit_transform(raw_docs.values.astype('U'))"
   ]
  },
  {
   "cell_type": "code",
   "execution_count": 17,
   "metadata": {},
   "outputs": [
    {
     "data": {
      "text/plain": [
       "<2240x724 sparse matrix of type '<class 'numpy.int64'>'\n",
       "\twith 10441 stored elements in Compressed Sparse Row format>"
      ]
     },
     "execution_count": 17,
     "metadata": {},
     "output_type": "execute_result"
    }
   ],
   "source": [
    "doc_term_matrix"
   ]
  },
  {
   "cell_type": "code",
   "execution_count": 18,
   "metadata": {},
   "outputs": [
    {
     "data": {
      "text/plain": [
       "LatentDirichletAllocation(n_components=5, random_state=42)"
      ]
     },
     "execution_count": 18,
     "metadata": {},
     "output_type": "execute_result"
    }
   ],
   "source": [
    "#put into matrix composition\n",
    "\n",
    "from sklearn.decomposition import LatentDirichletAllocation\n",
    "\n",
    "LDA = LatentDirichletAllocation(n_components=5, random_state=42)\n",
    "LDA.fit(doc_term_matrix)"
   ]
  },
  {
   "cell_type": "code",
   "execution_count": 19,
   "metadata": {},
   "outputs": [
    {
     "name": "stdout",
     "output_type": "stream",
     "text": [
      "1974\n",
      "manueller\n",
      "2217v\n",
      "2478v\n",
      "1910v\n",
      "verschmiert\n",
      "vorhanden\n",
      "1334v\n",
      "2456v\n",
      "001ma\n"
     ]
    }
   ],
   "source": [
    "#check random words\n",
    "\n",
    "import random\n",
    "\n",
    "for i in range(10):\n",
    "    random_id = random.randint(0,len(count_vect.get_feature_names()))\n",
    "    print(count_vect.get_feature_names()[random_id])"
   ]
  },
  {
   "cell_type": "code",
   "execution_count": 20,
   "metadata": {},
   "outputs": [],
   "source": [
    "#call model\n",
    "\n",
    "first_topic = LDA.components_[0]"
   ]
  },
  {
   "cell_type": "code",
   "execution_count": 21,
   "metadata": {},
   "outputs": [],
   "source": [
    "top_topic_words = first_topic.argsort()[-10:]"
   ]
  },
  {
   "cell_type": "code",
   "execution_count": 22,
   "metadata": {},
   "outputs": [
    {
     "name": "stdout",
     "output_type": "stream",
     "text": [
      "keine\n",
      "vorhanden\n",
      "werte\n",
      "04ma\n",
      "03ma\n",
      "oben\n",
      "durchschlag\n",
      "kontaktblech\n",
      "reproduzierbar\n",
      "fehler\n"
     ]
    }
   ],
   "source": [
    "for i in top_topic_words:\n",
    "    print(count_vect.get_feature_names()[i])"
   ]
  },
  {
   "cell_type": "code",
   "execution_count": 23,
   "metadata": {},
   "outputs": [
    {
     "name": "stdout",
     "output_type": "stream",
     "text": [
      "Top 10 words for topic #0:\n",
      "['keine', 'vorhanden', 'werte', '04ma', '03ma', 'oben', 'durchschlag', 'kontaktblech', 'reproduzierbar', 'fehler']\n",
      "\n",
      "\n",
      "Top 10 words for topic #1:\n",
      "['nacharbeit', 'pos', 'hzg', 'riss', 'kontaktbleches', 'rand', 'folie', 'seitlich', 'kontaktblech', 'durchschlag']\n",
      "\n",
      "\n",
      "Top 10 words for topic #2:\n",
      "['05ma', 'beschädigt', 'versetzt', '04ma', '03ma', 'iso', 'gerissen', 'seitlich', 'isofolie', 'folie']\n",
      "\n",
      "\n",
      "Top 10 words for topic #3:\n",
      "['02ma', 'tasche', '04ma', 'metallpartikel', '03ma', 'vermutlich', 'isofolie', 'schmutz', 'bg', 'ptc']\n",
      "\n",
      "\n",
      "Top 10 words for topic #4:\n",
      "['eingerissen', 'rms', 'schon', 'durchschlag', 'irms', 'urms', 'schmutz', 'iso', 'metallpartikel', 'folie']\n",
      "\n",
      "\n"
     ]
    }
   ],
   "source": [
    "#try to pull top ten words that frequently appear on the documents\n",
    "\n",
    "for i,topic in enumerate(LDA.components_):\n",
    "    print(f'Top 10 words for topic #{i}:')\n",
    "    print([count_vect.get_feature_names()[i] for i in topic.argsort()[-10:]])\n",
    "    print('\\n')"
   ]
  },
  {
   "cell_type": "code",
   "execution_count": null,
   "metadata": {},
   "outputs": [],
   "source": []
  }
 ],
 "metadata": {
  "kernelspec": {
   "display_name": "Python 3",
   "language": "python",
   "name": "python3"
  },
  "language_info": {
   "codemirror_mode": {
    "name": "ipython",
    "version": 3
   },
   "file_extension": ".py",
   "mimetype": "text/x-python",
   "name": "python",
   "nbconvert_exporter": "python",
   "pygments_lexer": "ipython3",
   "version": "3.8.8"
  }
 },
 "nbformat": 4,
 "nbformat_minor": 4
}
