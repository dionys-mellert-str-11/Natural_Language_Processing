{
 "cells": [
  {
   "cell_type": "markdown",
   "id": "a23ee27a",
   "metadata": {},
   "source": [
    "Import libraries"
   ]
  },
  {
   "cell_type": "code",
   "execution_count": 1,
   "id": "78d096d0",
   "metadata": {},
   "outputs": [],
   "source": [
    "import numpy as np \n",
    "import pandas as pd\n",
    "import matplotlib.pyplot as plt\n",
    "import seaborn as sns\n",
    "import datetime"
   ]
  },
  {
   "cell_type": "markdown",
   "id": "92437e7a",
   "metadata": {},
   "source": [
    "Load dataset"
   ]
  },
  {
   "cell_type": "code",
   "execution_count": 2,
   "id": "1fddf8ef",
   "metadata": {},
   "outputs": [],
   "source": [
    "df = pd.read_csv('complaints_2015.csv')"
   ]
  },
  {
   "cell_type": "markdown",
   "id": "02188e84",
   "metadata": {},
   "source": [
    "Look at dataset"
   ]
  },
  {
   "cell_type": "code",
   "execution_count": 3,
   "id": "906041a1",
   "metadata": {},
   "outputs": [
    {
     "data": {
      "text/html": [
       "<div>\n",
       "<style scoped>\n",
       "    .dataframe tbody tr th:only-of-type {\n",
       "        vertical-align: middle;\n",
       "    }\n",
       "\n",
       "    .dataframe tbody tr th {\n",
       "        vertical-align: top;\n",
       "    }\n",
       "\n",
       "    .dataframe thead th {\n",
       "        text-align: right;\n",
       "    }\n",
       "</style>\n",
       "<table border=\"1\" class=\"dataframe\">\n",
       "  <thead>\n",
       "    <tr style=\"text-align: right;\">\n",
       "      <th></th>\n",
       "      <th>Ticket #</th>\n",
       "      <th>Customer Complaint</th>\n",
       "      <th>Date</th>\n",
       "      <th>Time</th>\n",
       "      <th>Received Via</th>\n",
       "      <th>City</th>\n",
       "      <th>State</th>\n",
       "      <th>Zip code</th>\n",
       "      <th>Status</th>\n",
       "      <th>Filing on Behalf of Someone</th>\n",
       "      <th>Description</th>\n",
       "    </tr>\n",
       "  </thead>\n",
       "  <tbody>\n",
       "    <tr>\n",
       "      <th>0</th>\n",
       "      <td>250635</td>\n",
       "      <td>Comcast Cable Internet Speeds</td>\n",
       "      <td>4/22/2015</td>\n",
       "      <td>3:53:50 PM</td>\n",
       "      <td>Internet</td>\n",
       "      <td>Abingdon</td>\n",
       "      <td>Maryland</td>\n",
       "      <td>21009</td>\n",
       "      <td>Closed</td>\n",
       "      <td>No</td>\n",
       "      <td>I have been contacting Comcast Internet Techni...</td>\n",
       "    </tr>\n",
       "    <tr>\n",
       "      <th>1</th>\n",
       "      <td>223441</td>\n",
       "      <td>Payment disappear - service got disconnected</td>\n",
       "      <td>4/8/2015</td>\n",
       "      <td>10:22:56 AM</td>\n",
       "      <td>Internet</td>\n",
       "      <td>Acworth</td>\n",
       "      <td>Georgia</td>\n",
       "      <td>30102</td>\n",
       "      <td>Closed</td>\n",
       "      <td>No</td>\n",
       "      <td>Back in January 2015 I made 2 payments: One fo...</td>\n",
       "    </tr>\n",
       "    <tr>\n",
       "      <th>2</th>\n",
       "      <td>242732</td>\n",
       "      <td>Speed and Service</td>\n",
       "      <td>4/18/2015</td>\n",
       "      <td>9:55:47 AM</td>\n",
       "      <td>Internet</td>\n",
       "      <td>Acworth</td>\n",
       "      <td>Georgia</td>\n",
       "      <td>30101</td>\n",
       "      <td>Closed</td>\n",
       "      <td>Yes</td>\n",
       "      <td>Our home is located at in Acworth Georgia 3010...</td>\n",
       "    </tr>\n",
       "    <tr>\n",
       "      <th>3</th>\n",
       "      <td>277946</td>\n",
       "      <td>Comcast Imposed a New Usage Cap of 300GB that ...</td>\n",
       "      <td>5/7/2015</td>\n",
       "      <td>11:59:35 AM</td>\n",
       "      <td>Internet</td>\n",
       "      <td>Acworth</td>\n",
       "      <td>Georgia</td>\n",
       "      <td>30101</td>\n",
       "      <td>Open</td>\n",
       "      <td>Yes</td>\n",
       "      <td>Comcast in the Atlanta area has just put into ...</td>\n",
       "    </tr>\n",
       "    <tr>\n",
       "      <th>4</th>\n",
       "      <td>307175</td>\n",
       "      <td>Comcast not working and no service to boot</td>\n",
       "      <td>5/26/2015</td>\n",
       "      <td>1:25:26 PM</td>\n",
       "      <td>Internet</td>\n",
       "      <td>Acworth</td>\n",
       "      <td>Georgia</td>\n",
       "      <td>30101</td>\n",
       "      <td>Solved</td>\n",
       "      <td>No</td>\n",
       "      <td>I have been a customer of Comcast of some sort...</td>\n",
       "    </tr>\n",
       "  </tbody>\n",
       "</table>\n",
       "</div>"
      ],
      "text/plain": [
       "  Ticket #                                 Customer Complaint       Date  \\\n",
       "0   250635                      Comcast Cable Internet Speeds  4/22/2015   \n",
       "1   223441       Payment disappear - service got disconnected   4/8/2015   \n",
       "2   242732                                  Speed and Service  4/18/2015   \n",
       "3   277946  Comcast Imposed a New Usage Cap of 300GB that ...   5/7/2015   \n",
       "4   307175         Comcast not working and no service to boot  5/26/2015   \n",
       "\n",
       "          Time Received Via      City     State  Zip code  Status  \\\n",
       "0   3:53:50 PM     Internet  Abingdon  Maryland     21009  Closed   \n",
       "1  10:22:56 AM     Internet   Acworth   Georgia     30102  Closed   \n",
       "2   9:55:47 AM     Internet   Acworth   Georgia     30101  Closed   \n",
       "3  11:59:35 AM     Internet   Acworth   Georgia     30101    Open   \n",
       "4   1:25:26 PM     Internet   Acworth   Georgia     30101  Solved   \n",
       "\n",
       "  Filing on Behalf of Someone  \\\n",
       "0                          No   \n",
       "1                          No   \n",
       "2                         Yes   \n",
       "3                         Yes   \n",
       "4                          No   \n",
       "\n",
       "                                         Description  \n",
       "0  I have been contacting Comcast Internet Techni...  \n",
       "1  Back in January 2015 I made 2 payments: One fo...  \n",
       "2  Our home is located at in Acworth Georgia 3010...  \n",
       "3  Comcast in the Atlanta area has just put into ...  \n",
       "4  I have been a customer of Comcast of some sort...  "
      ]
     },
     "execution_count": 3,
     "metadata": {},
     "output_type": "execute_result"
    }
   ],
   "source": [
    "df.head(5)"
   ]
  },
  {
   "cell_type": "markdown",
   "id": "22f58ae3",
   "metadata": {},
   "source": [
    "Look at data type"
   ]
  },
  {
   "cell_type": "code",
   "execution_count": 4,
   "id": "405e558e",
   "metadata": {},
   "outputs": [
    {
     "data": {
      "text/plain": [
       "Ticket #                       object\n",
       "Customer Complaint             object\n",
       "Date                           object\n",
       "Time                           object\n",
       "Received Via                   object\n",
       "City                           object\n",
       "State                          object\n",
       "Zip code                        int64\n",
       "Status                         object\n",
       "Filing on Behalf of Someone    object\n",
       "Description                    object\n",
       "dtype: object"
      ]
     },
     "execution_count": 4,
     "metadata": {},
     "output_type": "execute_result"
    }
   ],
   "source": [
    "df.dtypes"
   ]
  },
  {
   "cell_type": "markdown",
   "id": "29178d6d",
   "metadata": {},
   "source": [
    "Check if there is missing data"
   ]
  },
  {
   "cell_type": "code",
   "execution_count": 5,
   "id": "0fd4b68a",
   "metadata": {},
   "outputs": [
    {
     "data": {
      "text/plain": [
       "Ticket #                       0\n",
       "Customer Complaint             0\n",
       "Date                           0\n",
       "Time                           0\n",
       "Received Via                   0\n",
       "City                           0\n",
       "State                          0\n",
       "Zip code                       0\n",
       "Status                         0\n",
       "Filing on Behalf of Someone    0\n",
       "Description                    0\n",
       "dtype: int64"
      ]
     },
     "execution_count": 5,
     "metadata": {},
     "output_type": "execute_result"
    }
   ],
   "source": [
    "df.isnull().sum()"
   ]
  },
  {
   "cell_type": "markdown",
   "id": "6bfe5758",
   "metadata": {},
   "source": [
    "Convert column \"Date\" and create new column \"month\" and \"month_day\""
   ]
  },
  {
   "cell_type": "code",
   "execution_count": 6,
   "id": "d6f8e560",
   "metadata": {},
   "outputs": [],
   "source": [
    "df[\"Date\"] = pd.to_datetime(df[\"Date\"])\n",
    "df['month'] = df['Date'].dt.month\n",
    "df['month_day'] = df['Date'].dt.strftime('%m-%d')"
   ]
  },
  {
   "cell_type": "markdown",
   "id": "0f820ab9",
   "metadata": {},
   "source": [
    "Find out at what month is the most complaint"
   ]
  },
  {
   "cell_type": "code",
   "execution_count": 7,
   "id": "edf729c7",
   "metadata": {},
   "outputs": [
    {
     "data": {
      "text/html": [
       "<div>\n",
       "<style scoped>\n",
       "    .dataframe tbody tr th:only-of-type {\n",
       "        vertical-align: middle;\n",
       "    }\n",
       "\n",
       "    .dataframe tbody tr th {\n",
       "        vertical-align: top;\n",
       "    }\n",
       "\n",
       "    .dataframe thead th {\n",
       "        text-align: right;\n",
       "    }\n",
       "</style>\n",
       "<table border=\"1\" class=\"dataframe\">\n",
       "  <thead>\n",
       "    <tr style=\"text-align: right;\">\n",
       "      <th></th>\n",
       "      <th>month</th>\n",
       "      <th>Customer Complaint</th>\n",
       "    </tr>\n",
       "  </thead>\n",
       "  <tbody>\n",
       "    <tr>\n",
       "      <th>2</th>\n",
       "      <td>6</td>\n",
       "      <td>1281</td>\n",
       "    </tr>\n",
       "    <tr>\n",
       "      <th>0</th>\n",
       "      <td>4</td>\n",
       "      <td>545</td>\n",
       "    </tr>\n",
       "    <tr>\n",
       "      <th>1</th>\n",
       "      <td>5</td>\n",
       "      <td>399</td>\n",
       "    </tr>\n",
       "  </tbody>\n",
       "</table>\n",
       "</div>"
      ],
      "text/plain": [
       "   month  Customer Complaint\n",
       "2      6                1281\n",
       "0      4                 545\n",
       "1      5                 399"
      ]
     },
     "execution_count": 7,
     "metadata": {},
     "output_type": "execute_result"
    }
   ],
   "source": [
    "df.groupby('month').count()[['Customer Complaint']].reset_index().\\\n",
    "sort_values(by = 'Customer Complaint',ascending = False).head(5)"
   ]
  },
  {
   "cell_type": "markdown",
   "id": "aa3801de",
   "metadata": {},
   "source": [
    "Find out on what day is the most complaint"
   ]
  },
  {
   "cell_type": "code",
   "execution_count": 8,
   "id": "b6878266",
   "metadata": {},
   "outputs": [
    {
     "data": {
      "text/html": [
       "<style type=\"text/css\">\n",
       "#T_4d7a0_row0_col1 {\n",
       "  background-color: #08306b;\n",
       "  color: #f1f1f1;\n",
       "}\n",
       "#T_4d7a0_row1_col1 {\n",
       "  background-color: #125da6;\n",
       "  color: #f1f1f1;\n",
       "}\n",
       "#T_4d7a0_row2_col1 {\n",
       "  background-color: #bfd8ed;\n",
       "  color: #000000;\n",
       "}\n",
       "#T_4d7a0_row3_col1 {\n",
       "  background-color: #f5f9fe;\n",
       "  color: #000000;\n",
       "}\n",
       "#T_4d7a0_row4_col1 {\n",
       "  background-color: #f7fbff;\n",
       "  color: #000000;\n",
       "}\n",
       "</style>\n",
       "<table id=\"T_4d7a0\">\n",
       "  <thead>\n",
       "    <tr>\n",
       "      <th class=\"blank level0\" >&nbsp;</th>\n",
       "      <th id=\"T_4d7a0_level0_col0\" class=\"col_heading level0 col0\" >month_day</th>\n",
       "      <th id=\"T_4d7a0_level0_col1\" class=\"col_heading level0 col1\" >Customer Complaint</th>\n",
       "    </tr>\n",
       "  </thead>\n",
       "  <tbody>\n",
       "    <tr>\n",
       "      <th id=\"T_4d7a0_level0_row0\" class=\"row_heading level0 row0\" >84</th>\n",
       "      <td id=\"T_4d7a0_row0_col0\" class=\"data row0 col0\" >06-24</td>\n",
       "      <td id=\"T_4d7a0_row0_col1\" class=\"data row0 col1\" >219</td>\n",
       "    </tr>\n",
       "    <tr>\n",
       "      <th id=\"T_4d7a0_level0_row1\" class=\"row_heading level0 row1\" >83</th>\n",
       "      <td id=\"T_4d7a0_row1_col0\" class=\"data row1 col0\" >06-23</td>\n",
       "      <td id=\"T_4d7a0_row1_col1\" class=\"data row1 col1\" >190</td>\n",
       "    </tr>\n",
       "    <tr>\n",
       "      <th id=\"T_4d7a0_level0_row2\" class=\"row_heading level0 row2\" >85</th>\n",
       "      <td id=\"T_4d7a0_row2_col0\" class=\"data row2 col0\" >06-25</td>\n",
       "      <td id=\"T_4d7a0_row2_col1\" class=\"data row2 col1\" >98</td>\n",
       "    </tr>\n",
       "    <tr>\n",
       "      <th id=\"T_4d7a0_level0_row3\" class=\"row_heading level0 row3\" >86</th>\n",
       "      <td id=\"T_4d7a0_row3_col0\" class=\"data row3 col0\" >06-26</td>\n",
       "      <td id=\"T_4d7a0_row3_col1\" class=\"data row3 col1\" >55</td>\n",
       "    </tr>\n",
       "    <tr>\n",
       "      <th id=\"T_4d7a0_level0_row4\" class=\"row_heading level0 row4\" >90</th>\n",
       "      <td id=\"T_4d7a0_row4_col0\" class=\"data row4 col0\" >06-30</td>\n",
       "      <td id=\"T_4d7a0_row4_col1\" class=\"data row4 col1\" >53</td>\n",
       "    </tr>\n",
       "  </tbody>\n",
       "</table>\n"
      ],
      "text/plain": [
       "<pandas.io.formats.style.Styler at 0x7fae32a08940>"
      ]
     },
     "execution_count": 8,
     "metadata": {},
     "output_type": "execute_result"
    }
   ],
   "source": [
    "df.groupby('month_day').count()[['Customer Complaint']].reset_index().\\\n",
    "sort_values(by = 'Customer Complaint',ascending = False).head(5).style.background_gradient('Blues')"
   ]
  },
  {
   "cell_type": "markdown",
   "id": "2cd20ef7",
   "metadata": {},
   "source": [
    "Find out on what day is the least complaint"
   ]
  },
  {
   "cell_type": "code",
   "execution_count": 9,
   "id": "d85f5a40",
   "metadata": {},
   "outputs": [
    {
     "data": {
      "text/html": [
       "<style type=\"text/css\">\n",
       "#T_3bf36_row0_col1, #T_3bf36_row1_col1 {\n",
       "  background-color: #fff5eb;\n",
       "  color: #000000;\n",
       "}\n",
       "#T_3bf36_row2_col1 {\n",
       "  background-color: #fd8c3b;\n",
       "  color: #f1f1f1;\n",
       "}\n",
       "#T_3bf36_row3_col1, #T_3bf36_row4_col1 {\n",
       "  background-color: #7f2704;\n",
       "  color: #f1f1f1;\n",
       "}\n",
       "</style>\n",
       "<table id=\"T_3bf36\">\n",
       "  <thead>\n",
       "    <tr>\n",
       "      <th class=\"blank level0\" >&nbsp;</th>\n",
       "      <th id=\"T_3bf36_level0_col0\" class=\"col_heading level0 col0\" >month_day</th>\n",
       "      <th id=\"T_3bf36_level0_col1\" class=\"col_heading level0 col1\" >Customer Complaint</th>\n",
       "    </tr>\n",
       "  </thead>\n",
       "  <tbody>\n",
       "    <tr>\n",
       "      <th id=\"T_3bf36_level0_row0\" class=\"row_heading level0 row0\" >10</th>\n",
       "      <td id=\"T_3bf36_row0_col0\" class=\"data row0 col0\" >04-11</td>\n",
       "      <td id=\"T_3bf36_row0_col1\" class=\"data row0 col1\" >5</td>\n",
       "    </tr>\n",
       "    <tr>\n",
       "      <th id=\"T_3bf36_level0_row1\" class=\"row_heading level0 row1\" >32</th>\n",
       "      <td id=\"T_3bf36_row1_col0\" class=\"data row1 col0\" >05-03</td>\n",
       "      <td id=\"T_3bf36_row1_col1\" class=\"data row1 col1\" >5</td>\n",
       "    </tr>\n",
       "    <tr>\n",
       "      <th id=\"T_3bf36_level0_row2\" class=\"row_heading level0 row2\" >4</th>\n",
       "      <td id=\"T_3bf36_row2_col0\" class=\"data row2 col0\" >04-05</td>\n",
       "      <td id=\"T_3bf36_row2_col1\" class=\"data row2 col1\" >6</td>\n",
       "    </tr>\n",
       "    <tr>\n",
       "      <th id=\"T_3bf36_level0_row3\" class=\"row_heading level0 row3\" >31</th>\n",
       "      <td id=\"T_3bf36_row3_col0\" class=\"data row3 col0\" >05-02</td>\n",
       "      <td id=\"T_3bf36_row3_col1\" class=\"data row3 col1\" >7</td>\n",
       "    </tr>\n",
       "    <tr>\n",
       "      <th id=\"T_3bf36_level0_row4\" class=\"row_heading level0 row4\" >39</th>\n",
       "      <td id=\"T_3bf36_row4_col0\" class=\"data row4 col0\" >05-10</td>\n",
       "      <td id=\"T_3bf36_row4_col1\" class=\"data row4 col1\" >7</td>\n",
       "    </tr>\n",
       "  </tbody>\n",
       "</table>\n"
      ],
      "text/plain": [
       "<pandas.io.formats.style.Styler at 0x7fae32a09a80>"
      ]
     },
     "execution_count": 9,
     "metadata": {},
     "output_type": "execute_result"
    }
   ],
   "source": [
    "df.groupby('month_day').count()[['Customer Complaint']].reset_index().\\\n",
    "sort_values(by = 'Customer Complaint').head(5).style.background_gradient('Oranges')"
   ]
  },
  {
   "cell_type": "markdown",
   "id": "8a2bc717",
   "metadata": {},
   "source": [
    "Count the total status of complaints"
   ]
  },
  {
   "cell_type": "code",
   "execution_count": 10,
   "id": "cc23d27b",
   "metadata": {},
   "outputs": [
    {
     "data": {
      "text/plain": [
       "Solved     973\n",
       "Closed     734\n",
       "Open       363\n",
       "Pending    155\n",
       "Name: Status, dtype: int64"
      ]
     },
     "execution_count": 10,
     "metadata": {},
     "output_type": "execute_result"
    }
   ],
   "source": [
    "df['Status'].value_counts()"
   ]
  },
  {
   "cell_type": "markdown",
   "id": "209f50f1",
   "metadata": {},
   "source": [
    "What categories of customer complaint are appeared the most?"
   ]
  },
  {
   "cell_type": "code",
   "execution_count": 11,
   "id": "4d61c568",
   "metadata": {},
   "outputs": [
    {
     "data": {
      "text/plain": [
       "Comcast                     83\n",
       "Comcast Internet            18\n",
       "Comcast Data Cap            17\n",
       "comcast                     13\n",
       "Comcast Data Caps           11\n",
       "Data Caps                   11\n",
       "Comcast Billing             11\n",
       "Unfair Billing Practices     9\n",
       "Data Cap                     8\n",
       "Comcast/Xfinity              8\n",
       "Comcast data caps            8\n",
       "Comcast internet             8\n",
       "Internet speed               8\n",
       "Comcast data cap             8\n",
       "Comcast service              6\n",
       "Comcast Service              6\n",
       "Billing                      6\n",
       "Comcast billing              6\n",
       "COMCAST                      6\n",
       "Name: Customer Complaint, dtype: int64"
      ]
     },
     "execution_count": 11,
     "metadata": {},
     "output_type": "execute_result"
    }
   ],
   "source": [
    "df['Customer Complaint'].value_counts()[0:19]"
   ]
  },
  {
   "cell_type": "markdown",
   "id": "f16b2c2c",
   "metadata": {},
   "source": [
    "Because there are some repititions, we try to re-categorized the customer complaint and found out that Internet is the major complaint"
   ]
  },
  {
   "cell_type": "code",
   "execution_count": 12,
   "id": "35ae4a74",
   "metadata": {},
   "outputs": [
    {
     "data": {
      "text/plain": [
       "Internet            532\n",
       "Customer_Service    489\n",
       "Billing             299\n",
       "Payment             139\n",
       "Cable                58\n",
       "dtype: int64"
      ]
     },
     "execution_count": 12,
     "metadata": {},
     "output_type": "execute_result"
    }
   ],
   "source": [
    "test = pd.DataFrame({'index':range(df.shape[0])})\n",
    "df['Customer Complaint'] = df['Customer Complaint'].str.lower()\n",
    "test['Customer_Service']=df['Customer Complaint'].str.extract(\"(service)\")\n",
    "test['Internet']=df['Customer Complaint'].str.extract(\"(internet)\")\n",
    "test['Billing']=df['Customer Complaint'].str.extract(\"(billing)\")\n",
    "test['Payment']=df['Customer Complaint'].str.extract(\"(charge)\")\n",
    "test['Cable']=df['Customer Complaint'].str.extract(\"(cable)\")\n",
    "test.shape\n",
    "test.drop('index',axis=1,inplace=True)\n",
    "major_complaint = test.notnull().sum().sort_values(ascending=False)\n",
    "major_complaint"
   ]
  },
  {
   "cell_type": "markdown",
   "id": "482157c7",
   "metadata": {},
   "source": [
    "Which city has the most complaint?"
   ]
  },
  {
   "cell_type": "code",
   "execution_count": 13,
   "id": "c850aae0",
   "metadata": {},
   "outputs": [
    {
     "data": {
      "text/plain": [
       "Georgia                 289\n",
       "Florida                 240\n",
       "California              220\n",
       "Illinois                164\n",
       "Tennessee               143\n",
       "Pennsylvania            130\n",
       "Michigan                115\n",
       "Washington               98\n",
       "Colorado                 80\n",
       "Maryland                 78\n",
       "New Jersey               75\n",
       "Texas                    71\n",
       "Massachusetts            61\n",
       "Virginia                 60\n",
       "Indiana                  59\n",
       "Oregon                   49\n",
       "Mississippi              39\n",
       "Minnesota                33\n",
       "Alabama                  26\n",
       "Utah                     22\n",
       "Arizona                  20\n",
       "South Carolina           18\n",
       "District Of Columbia     16\n",
       "New Mexico               15\n",
       "Louisiana                13\n",
       "Delaware                 12\n",
       "New Hampshire            12\n",
       "Connecticut              12\n",
       "West Virginia            11\n",
       "Kentucky                  7\n",
       "New York                  6\n",
       "Arkansas                  6\n",
       "Maine                     5\n",
       "Missouri                  4\n",
       "Ohio                      3\n",
       "Vermont                   3\n",
       "North Carolina            3\n",
       "Kansas                    2\n",
       "Nevada                    1\n",
       "Montana                   1\n",
       "Rhode Island              1\n",
       "District of Columbia      1\n",
       "Iowa                      1\n",
       "Name: State, dtype: int64"
      ]
     },
     "execution_count": 13,
     "metadata": {},
     "output_type": "execute_result"
    }
   ],
   "source": [
    "df['State'].value_counts()"
   ]
  },
  {
   "cell_type": "markdown",
   "id": "ad17c231",
   "metadata": {},
   "source": [
    "Which city has the most \"closed\" status?"
   ]
  },
  {
   "cell_type": "code",
   "execution_count": 14,
   "id": "e7939fbc",
   "metadata": {},
   "outputs": [
    {
     "data": {
      "text/html": [
       "<div>\n",
       "<style scoped>\n",
       "    .dataframe tbody tr th:only-of-type {\n",
       "        vertical-align: middle;\n",
       "    }\n",
       "\n",
       "    .dataframe tbody tr th {\n",
       "        vertical-align: top;\n",
       "    }\n",
       "\n",
       "    .dataframe thead th {\n",
       "        text-align: right;\n",
       "    }\n",
       "</style>\n",
       "<table border=\"1\" class=\"dataframe\">\n",
       "  <thead>\n",
       "    <tr style=\"text-align: right;\">\n",
       "      <th>Status</th>\n",
       "      <th>Closed</th>\n",
       "      <th>Open</th>\n",
       "      <th>Pending</th>\n",
       "      <th>Solved</th>\n",
       "    </tr>\n",
       "    <tr>\n",
       "      <th>State</th>\n",
       "      <th></th>\n",
       "      <th></th>\n",
       "      <th></th>\n",
       "      <th></th>\n",
       "    </tr>\n",
       "  </thead>\n",
       "  <tbody>\n",
       "    <tr>\n",
       "      <th>Florida</th>\n",
       "      <td>100.0</td>\n",
       "      <td>35.0</td>\n",
       "      <td>4.0</td>\n",
       "      <td>101.0</td>\n",
       "    </tr>\n",
       "    <tr>\n",
       "      <th>Georgia</th>\n",
       "      <td>82.0</td>\n",
       "      <td>35.0</td>\n",
       "      <td>46.0</td>\n",
       "      <td>126.0</td>\n",
       "    </tr>\n",
       "    <tr>\n",
       "      <th>California</th>\n",
       "      <td>72.0</td>\n",
       "      <td>47.0</td>\n",
       "      <td>14.0</td>\n",
       "      <td>87.0</td>\n",
       "    </tr>\n",
       "  </tbody>\n",
       "</table>\n",
       "</div>"
      ],
      "text/plain": [
       "Status      Closed  Open  Pending  Solved\n",
       "State                                    \n",
       "Florida      100.0  35.0      4.0   101.0\n",
       "Georgia       82.0  35.0     46.0   126.0\n",
       "California    72.0  47.0     14.0    87.0"
      ]
     },
     "execution_count": 14,
     "metadata": {},
     "output_type": "execute_result"
    }
   ],
   "source": [
    "Closed = df.groupby([\"State\",\"Status\"]).size().unstack().sort_values(by='Closed', ascending = False).\\\n",
    "fillna(0)\n",
    "\n",
    "Closed.head(3)"
   ]
  },
  {
   "cell_type": "markdown",
   "id": "f8236725",
   "metadata": {},
   "source": [
    "Which city has the most \"Open\" status?"
   ]
  },
  {
   "cell_type": "code",
   "execution_count": 15,
   "id": "e11b89da",
   "metadata": {},
   "outputs": [
    {
     "data": {
      "text/html": [
       "<div>\n",
       "<style scoped>\n",
       "    .dataframe tbody tr th:only-of-type {\n",
       "        vertical-align: middle;\n",
       "    }\n",
       "\n",
       "    .dataframe tbody tr th {\n",
       "        vertical-align: top;\n",
       "    }\n",
       "\n",
       "    .dataframe thead th {\n",
       "        text-align: right;\n",
       "    }\n",
       "</style>\n",
       "<table border=\"1\" class=\"dataframe\">\n",
       "  <thead>\n",
       "    <tr style=\"text-align: right;\">\n",
       "      <th>Status</th>\n",
       "      <th>Closed</th>\n",
       "      <th>Open</th>\n",
       "      <th>Pending</th>\n",
       "      <th>Solved</th>\n",
       "    </tr>\n",
       "    <tr>\n",
       "      <th>State</th>\n",
       "      <th></th>\n",
       "      <th></th>\n",
       "      <th></th>\n",
       "      <th></th>\n",
       "    </tr>\n",
       "  </thead>\n",
       "  <tbody>\n",
       "    <tr>\n",
       "      <th>California</th>\n",
       "      <td>72.0</td>\n",
       "      <td>47.0</td>\n",
       "      <td>14.0</td>\n",
       "      <td>87.0</td>\n",
       "    </tr>\n",
       "    <tr>\n",
       "      <th>Florida</th>\n",
       "      <td>100.0</td>\n",
       "      <td>35.0</td>\n",
       "      <td>4.0</td>\n",
       "      <td>101.0</td>\n",
       "    </tr>\n",
       "    <tr>\n",
       "      <th>Georgia</th>\n",
       "      <td>82.0</td>\n",
       "      <td>35.0</td>\n",
       "      <td>46.0</td>\n",
       "      <td>126.0</td>\n",
       "    </tr>\n",
       "  </tbody>\n",
       "</table>\n",
       "</div>"
      ],
      "text/plain": [
       "Status      Closed  Open  Pending  Solved\n",
       "State                                    \n",
       "California    72.0  47.0     14.0    87.0\n",
       "Florida      100.0  35.0      4.0   101.0\n",
       "Georgia       82.0  35.0     46.0   126.0"
      ]
     },
     "execution_count": 15,
     "metadata": {},
     "output_type": "execute_result"
    }
   ],
   "source": [
    "Open = df.groupby([\"State\",\"Status\"]).size().unstack().sort_values(by='Open', ascending = False).\\\n",
    "fillna(0)\n",
    "\n",
    "Open.head(3)"
   ]
  },
  {
   "cell_type": "markdown",
   "id": "b67cff93",
   "metadata": {},
   "source": [
    "Which city has the most \"Pending\" status?"
   ]
  },
  {
   "cell_type": "code",
   "execution_count": 16,
   "id": "cbbc06df",
   "metadata": {},
   "outputs": [
    {
     "data": {
      "text/html": [
       "<div>\n",
       "<style scoped>\n",
       "    .dataframe tbody tr th:only-of-type {\n",
       "        vertical-align: middle;\n",
       "    }\n",
       "\n",
       "    .dataframe tbody tr th {\n",
       "        vertical-align: top;\n",
       "    }\n",
       "\n",
       "    .dataframe thead th {\n",
       "        text-align: right;\n",
       "    }\n",
       "</style>\n",
       "<table border=\"1\" class=\"dataframe\">\n",
       "  <thead>\n",
       "    <tr style=\"text-align: right;\">\n",
       "      <th>Status</th>\n",
       "      <th>Closed</th>\n",
       "      <th>Open</th>\n",
       "      <th>Pending</th>\n",
       "      <th>Solved</th>\n",
       "    </tr>\n",
       "    <tr>\n",
       "      <th>State</th>\n",
       "      <th></th>\n",
       "      <th></th>\n",
       "      <th></th>\n",
       "      <th></th>\n",
       "    </tr>\n",
       "  </thead>\n",
       "  <tbody>\n",
       "    <tr>\n",
       "      <th>Georgia</th>\n",
       "      <td>82.0</td>\n",
       "      <td>35.0</td>\n",
       "      <td>46.0</td>\n",
       "      <td>126.0</td>\n",
       "    </tr>\n",
       "    <tr>\n",
       "      <th>California</th>\n",
       "      <td>72.0</td>\n",
       "      <td>47.0</td>\n",
       "      <td>14.0</td>\n",
       "      <td>87.0</td>\n",
       "    </tr>\n",
       "    <tr>\n",
       "      <th>Tennessee</th>\n",
       "      <td>39.0</td>\n",
       "      <td>33.0</td>\n",
       "      <td>14.0</td>\n",
       "      <td>57.0</td>\n",
       "    </tr>\n",
       "  </tbody>\n",
       "</table>\n",
       "</div>"
      ],
      "text/plain": [
       "Status      Closed  Open  Pending  Solved\n",
       "State                                    \n",
       "Georgia       82.0  35.0     46.0   126.0\n",
       "California    72.0  47.0     14.0    87.0\n",
       "Tennessee     39.0  33.0     14.0    57.0"
      ]
     },
     "execution_count": 16,
     "metadata": {},
     "output_type": "execute_result"
    }
   ],
   "source": [
    "Pending = df.groupby([\"State\",\"Status\"]).size().unstack().sort_values(by='Pending', ascending = False).\\\n",
    "fillna(0)\n",
    "\n",
    "Pending.head(3)"
   ]
  },
  {
   "cell_type": "markdown",
   "id": "e67740dc",
   "metadata": {},
   "source": [
    "Which city has the most \"Solved\" status?"
   ]
  },
  {
   "cell_type": "code",
   "execution_count": 17,
   "id": "01513cac",
   "metadata": {},
   "outputs": [
    {
     "data": {
      "text/html": [
       "<div>\n",
       "<style scoped>\n",
       "    .dataframe tbody tr th:only-of-type {\n",
       "        vertical-align: middle;\n",
       "    }\n",
       "\n",
       "    .dataframe tbody tr th {\n",
       "        vertical-align: top;\n",
       "    }\n",
       "\n",
       "    .dataframe thead th {\n",
       "        text-align: right;\n",
       "    }\n",
       "</style>\n",
       "<table border=\"1\" class=\"dataframe\">\n",
       "  <thead>\n",
       "    <tr style=\"text-align: right;\">\n",
       "      <th>Status</th>\n",
       "      <th>Closed</th>\n",
       "      <th>Open</th>\n",
       "      <th>Pending</th>\n",
       "      <th>Solved</th>\n",
       "    </tr>\n",
       "    <tr>\n",
       "      <th>State</th>\n",
       "      <th></th>\n",
       "      <th></th>\n",
       "      <th></th>\n",
       "      <th></th>\n",
       "    </tr>\n",
       "  </thead>\n",
       "  <tbody>\n",
       "    <tr>\n",
       "      <th>Georgia</th>\n",
       "      <td>82.0</td>\n",
       "      <td>35.0</td>\n",
       "      <td>46.0</td>\n",
       "      <td>126.0</td>\n",
       "    </tr>\n",
       "    <tr>\n",
       "      <th>Florida</th>\n",
       "      <td>100.0</td>\n",
       "      <td>35.0</td>\n",
       "      <td>4.0</td>\n",
       "      <td>101.0</td>\n",
       "    </tr>\n",
       "    <tr>\n",
       "      <th>California</th>\n",
       "      <td>72.0</td>\n",
       "      <td>47.0</td>\n",
       "      <td>14.0</td>\n",
       "      <td>87.0</td>\n",
       "    </tr>\n",
       "  </tbody>\n",
       "</table>\n",
       "</div>"
      ],
      "text/plain": [
       "Status      Closed  Open  Pending  Solved\n",
       "State                                    \n",
       "Georgia       82.0  35.0     46.0   126.0\n",
       "Florida      100.0  35.0      4.0   101.0\n",
       "California    72.0  47.0     14.0    87.0"
      ]
     },
     "execution_count": 17,
     "metadata": {},
     "output_type": "execute_result"
    }
   ],
   "source": [
    "Solved = df.groupby([\"State\",\"Status\"]).size().unstack().sort_values(by='Solved', ascending = False).\\\n",
    "fillna(0)\n",
    "\n",
    "Solved.head(3)"
   ]
  },
  {
   "cell_type": "markdown",
   "id": "4d7f7e8e",
   "metadata": {},
   "source": [
    "Now I try to implement some NLP cases"
   ]
  },
  {
   "cell_type": "markdown",
   "id": "8015518b",
   "metadata": {},
   "source": [
    "all sentences using lower case"
   ]
  },
  {
   "cell_type": "code",
   "execution_count": 18,
   "id": "e83229a1",
   "metadata": {},
   "outputs": [
    {
     "data": {
      "text/plain": [
       "0       i have been contacting comcast internet techni...\n",
       "1       back in january 2015 i made 2 payments: one fo...\n",
       "2       our home is located at in acworth georgia 3010...\n",
       "3       comcast in the atlanta area has just put into ...\n",
       "4       i have been a customer of comcast of some sort...\n",
       "                              ...                        \n",
       "2220    i am a deaf guy. i have asked att or comcast t...\n",
       "2221    we purchased our own modem and returned the co...\n",
       "2222    i had an agreement with comcast agent 1 year f...\n",
       "2223    a few months ago i was forced to finally call ...\n",
       "2224    my internet disconnects all of the time and i ...\n",
       "Name: Description, Length: 2225, dtype: object"
      ]
     },
     "execution_count": 18,
     "metadata": {},
     "output_type": "execute_result"
    }
   ],
   "source": [
    "df['Description'] = df['Description'].apply (lambda x: \" \".join (x.lower () for x in x.split ()))\n",
    "df['Description']"
   ]
  },
  {
   "cell_type": "markdown",
   "id": "c5b0db4f",
   "metadata": {},
   "source": [
    "Remove all punctuation"
   ]
  },
  {
   "cell_type": "code",
   "execution_count": 19,
   "id": "09559339",
   "metadata": {},
   "outputs": [
    {
     "data": {
      "text/plain": [
       "0       i have been contacting comcast internet techni...\n",
       "1       back in january 2015 i made 2 payments one for...\n",
       "2       our home is located at in acworth georgia 3010...\n",
       "3       comcast in the atlanta area has just put into ...\n",
       "4       i have been a customer of comcast of some sort...\n",
       "                              ...                        \n",
       "2220    i am a deaf guy i have asked att or comcast to...\n",
       "2221    we purchased our own modem and returned the co...\n",
       "2222    i had an agreement with comcast agent 1 year f...\n",
       "2223    a few months ago i was forced to finally call ...\n",
       "2224    my internet disconnects all of the time and i ...\n",
       "Name: Description, Length: 2225, dtype: object"
      ]
     },
     "execution_count": 19,
     "metadata": {},
     "output_type": "execute_result"
    }
   ],
   "source": [
    "df ['Description'] = df['Description'].str.replace (r\"\"\"[^\\w\\s]+\"\"\",\"\", regex = True)\n",
    "\n",
    "df['Description']"
   ]
  },
  {
   "cell_type": "markdown",
   "id": "65317d47",
   "metadata": {},
   "source": [
    "Remove all stop words"
   ]
  },
  {
   "cell_type": "code",
   "execution_count": 20,
   "id": "92bbd03f",
   "metadata": {},
   "outputs": [
    {
     "data": {
      "text/plain": [
       "0       contacting comcast internet technical support ...\n",
       "1       back january 2015 made 2 payments one januarys...\n",
       "2       home located acworth georgia 30101 signed one ...\n",
       "3       comcast atlanta area put effect unprecendented...\n",
       "4       customer comcast sort 20 years never issues li...\n",
       "                              ...                        \n",
       "2220    deaf guy asked att comcast see provide cable d...\n",
       "2221    purchased modem returned comcast modem 81213 v...\n",
       "2222    agreement comcast agent 1 year 3999 50 mg bite...\n",
       "2223    months ago forced finally call comcast extreme...\n",
       "2224    internet disconnects time rarely get full 106m...\n",
       "Name: Description, Length: 2225, dtype: object"
      ]
     },
     "execution_count": 20,
     "metadata": {},
     "output_type": "execute_result"
    }
   ],
   "source": [
    "import nltk\n",
    "from nltk.corpus import stopwords\n",
    "#nltk.download('stopwords')\n",
    "\n",
    "# remove stop words\n",
    "stop = stopwords.words ('english')\n",
    "df['Description'] = df['Description'].apply (lambda x: \" \".join (x for x in x.split () if x not in stop))\n",
    "df['Description']"
   ]
  },
  {
   "cell_type": "markdown",
   "id": "cbf6f601",
   "metadata": {},
   "source": [
    "Tokenizing"
   ]
  },
  {
   "cell_type": "code",
   "execution_count": 21,
   "id": "ee6cf982",
   "metadata": {},
   "outputs": [
    {
     "data": {
      "text/plain": [
       "WordList(['comcast', 'atlanta', 'area', 'put', 'effect', 'unprecendented', 'usage', 'cap', '300gb', 'exceed', 'cap', 'charged', 'extra', '10', 'per', '50gb', 'stream', 'online', 'services', 'standard', 'hd', 'hit', 'cap', 'extremely', 'easily', 'comcast', 'never', 'capped', 'usage', 'year', 'new', 'net', 'neutrality', 'rules', 'went', 'effect', 'feel', 'practices', 'unfair', 'competition', 'atlanta', 'market', 'treat', 'customers', 'however', 'choose', 'right'])"
      ]
     },
     "execution_count": 21,
     "metadata": {},
     "output_type": "execute_result"
    }
   ],
   "source": [
    "from textblob import TextBlob\n",
    "#nltk.download('punkt')\n",
    "TextBlob (df['Description'][3]).words"
   ]
  },
  {
   "cell_type": "markdown",
   "id": "c658f28e",
   "metadata": {},
   "source": [
    "Stemming"
   ]
  },
  {
   "cell_type": "code",
   "execution_count": 22,
   "id": "6e2c91b3",
   "metadata": {},
   "outputs": [
    {
     "data": {
      "text/plain": [
       "0    contact comcast internet technic support last ...\n",
       "1    back januari 2015 made 2 payment one januari s...\n",
       "2    home locat acworth georgia 30101 sign one year...\n",
       "3    comcast atlanta area put effect unprecend usag...\n",
       "4    custom comcast sort 20 year never issu like pa...\n",
       "Name: Description, dtype: object"
      ]
     },
     "execution_count": 22,
     "metadata": {},
     "output_type": "execute_result"
    }
   ],
   "source": [
    "from nltk.stem import PorterStemmer\n",
    "st = PorterStemmer ()\n",
    "df['Description'][:5].apply (lambda x: \" \".join ([st.stem(word) for word in x.split ()]))"
   ]
  },
  {
   "cell_type": "markdown",
   "id": "9734e2e8",
   "metadata": {},
   "source": [
    "Lemmatizing"
   ]
  },
  {
   "cell_type": "code",
   "execution_count": 23,
   "id": "8a0efb8f",
   "metadata": {},
   "outputs": [
    {
     "data": {
      "text/plain": [
       "0       contacting comcast internet technical support ...\n",
       "1       back january 2015 made 2 payment one january s...\n",
       "2       home located acworth georgia 30101 signed one ...\n",
       "3       comcast atlanta area put effect unprecendented...\n",
       "4       customer comcast sort 20 year never issue like...\n",
       "                              ...                        \n",
       "2220    deaf guy asked att comcast see provide cable d...\n",
       "2221    purchased modem returned comcast modem 81213 v...\n",
       "2222    agreement comcast agent 1 year 3999 50 mg bite...\n",
       "2223    month ago forced finally call comcast extremel...\n",
       "2224    internet disconnect time rarely get full 106mb...\n",
       "Name: Description, Length: 2225, dtype: object"
      ]
     },
     "execution_count": 23,
     "metadata": {},
     "output_type": "execute_result"
    }
   ],
   "source": [
    "from textblob import Word\n",
    "#nltk.download('wordnet')\n",
    "#nltk.download('omw-1.4')\n",
    "\n",
    "df['Description'] = df['Description'].apply (lambda x: \" \".join ([Word(word).\n",
    "                                                     lemmatize () for word in x.split ()]))\n",
    "\n",
    "df['Description']"
   ]
  },
  {
   "cell_type": "markdown",
   "id": "67e05872",
   "metadata": {},
   "source": [
    "Select only 2 important columns to do a prediction later on"
   ]
  },
  {
   "cell_type": "code",
   "execution_count": 24,
   "id": "2266c5df",
   "metadata": {},
   "outputs": [
    {
     "data": {
      "text/html": [
       "<div>\n",
       "<style scoped>\n",
       "    .dataframe tbody tr th:only-of-type {\n",
       "        vertical-align: middle;\n",
       "    }\n",
       "\n",
       "    .dataframe tbody tr th {\n",
       "        vertical-align: top;\n",
       "    }\n",
       "\n",
       "    .dataframe thead th {\n",
       "        text-align: right;\n",
       "    }\n",
       "</style>\n",
       "<table border=\"1\" class=\"dataframe\">\n",
       "  <thead>\n",
       "    <tr style=\"text-align: right;\">\n",
       "      <th></th>\n",
       "      <th>Description</th>\n",
       "      <th>Status</th>\n",
       "    </tr>\n",
       "  </thead>\n",
       "  <tbody>\n",
       "    <tr>\n",
       "      <th>0</th>\n",
       "      <td>contacting comcast internet technical support ...</td>\n",
       "      <td>Closed</td>\n",
       "    </tr>\n",
       "    <tr>\n",
       "      <th>1</th>\n",
       "      <td>back january 2015 made 2 payment one january s...</td>\n",
       "      <td>Closed</td>\n",
       "    </tr>\n",
       "    <tr>\n",
       "      <th>2</th>\n",
       "      <td>home located acworth georgia 30101 signed one ...</td>\n",
       "      <td>Closed</td>\n",
       "    </tr>\n",
       "    <tr>\n",
       "      <th>3</th>\n",
       "      <td>comcast atlanta area put effect unprecendented...</td>\n",
       "      <td>Open</td>\n",
       "    </tr>\n",
       "    <tr>\n",
       "      <th>4</th>\n",
       "      <td>customer comcast sort 20 year never issue like...</td>\n",
       "      <td>Solved</td>\n",
       "    </tr>\n",
       "  </tbody>\n",
       "</table>\n",
       "</div>"
      ],
      "text/plain": [
       "                                         Description  Status\n",
       "0  contacting comcast internet technical support ...  Closed\n",
       "1  back january 2015 made 2 payment one january s...  Closed\n",
       "2  home located acworth georgia 30101 signed one ...  Closed\n",
       "3  comcast atlanta area put effect unprecendented...    Open\n",
       "4  customer comcast sort 20 year never issue like...  Solved"
      ]
     },
     "execution_count": 24,
     "metadata": {},
     "output_type": "execute_result"
    }
   ],
   "source": [
    "df = df[['Description', 'Status']]\n",
    "df = df[pd.notnull(df['Description'])]\n",
    "\n",
    "df.head (5)"
   ]
  },
  {
   "cell_type": "markdown",
   "id": "de76ac43",
   "metadata": {},
   "source": [
    "Create a new column to categorize the status"
   ]
  },
  {
   "cell_type": "code",
   "execution_count": 25,
   "id": "1d6e84c3",
   "metadata": {},
   "outputs": [
    {
     "data": {
      "text/html": [
       "<div>\n",
       "<style scoped>\n",
       "    .dataframe tbody tr th:only-of-type {\n",
       "        vertical-align: middle;\n",
       "    }\n",
       "\n",
       "    .dataframe tbody tr th {\n",
       "        vertical-align: top;\n",
       "    }\n",
       "\n",
       "    .dataframe thead th {\n",
       "        text-align: right;\n",
       "    }\n",
       "</style>\n",
       "<table border=\"1\" class=\"dataframe\">\n",
       "  <thead>\n",
       "    <tr style=\"text-align: right;\">\n",
       "      <th></th>\n",
       "      <th>Description</th>\n",
       "      <th>Status</th>\n",
       "      <th>category_id</th>\n",
       "    </tr>\n",
       "  </thead>\n",
       "  <tbody>\n",
       "    <tr>\n",
       "      <th>0</th>\n",
       "      <td>contacting comcast internet technical support ...</td>\n",
       "      <td>Closed</td>\n",
       "      <td>0</td>\n",
       "    </tr>\n",
       "    <tr>\n",
       "      <th>1</th>\n",
       "      <td>back january 2015 made 2 payment one january s...</td>\n",
       "      <td>Closed</td>\n",
       "      <td>0</td>\n",
       "    </tr>\n",
       "    <tr>\n",
       "      <th>2</th>\n",
       "      <td>home located acworth georgia 30101 signed one ...</td>\n",
       "      <td>Closed</td>\n",
       "      <td>0</td>\n",
       "    </tr>\n",
       "    <tr>\n",
       "      <th>3</th>\n",
       "      <td>comcast atlanta area put effect unprecendented...</td>\n",
       "      <td>Open</td>\n",
       "      <td>1</td>\n",
       "    </tr>\n",
       "    <tr>\n",
       "      <th>4</th>\n",
       "      <td>customer comcast sort 20 year never issue like...</td>\n",
       "      <td>Solved</td>\n",
       "      <td>2</td>\n",
       "    </tr>\n",
       "  </tbody>\n",
       "</table>\n",
       "</div>"
      ],
      "text/plain": [
       "                                         Description  Status  category_id\n",
       "0  contacting comcast internet technical support ...  Closed            0\n",
       "1  back january 2015 made 2 payment one january s...  Closed            0\n",
       "2  home located acworth georgia 30101 signed one ...  Closed            0\n",
       "3  comcast atlanta area put effect unprecendented...    Open            1\n",
       "4  customer comcast sort 20 year never issue like...  Solved            2"
      ]
     },
     "execution_count": 25,
     "metadata": {},
     "output_type": "execute_result"
    }
   ],
   "source": [
    "df['category_id'] = df['Status'].factorize()[0]\n",
    "df.head(5)"
   ]
  },
  {
   "cell_type": "markdown",
   "id": "db05a5a7",
   "metadata": {},
   "source": [
    "Split the data into train and test dataset"
   ]
  },
  {
   "cell_type": "code",
   "execution_count": 26,
   "id": "d58c2c43",
   "metadata": {},
   "outputs": [],
   "source": [
    "from sklearn.feature_extraction.text import TfidfVectorizer\n",
    "from sklearn.model_selection import train_test_split\n",
    "from sklearn import model_selection, preprocessing, linear_model, naive_bayes, metrics, svm\n",
    "from sklearn.linear_model import LogisticRegression\n",
    "from sklearn.feature_extraction.text import CountVectorizer, TfidfVectorizer\n",
    "import sklearn.feature_extraction.text as text\n",
    "from sklearn.svm import LinearSVC\n",
    "from sklearn.model_selection import cross_val_score\n",
    "\n",
    "\n",
    "train_x, valid_x, train_y, valid_y = train_test_split(df['Description'], df['Status'])"
   ]
  },
  {
   "cell_type": "markdown",
   "id": "5528be83",
   "metadata": {},
   "source": [
    "Feature engineering using TF-IDF"
   ]
  },
  {
   "cell_type": "code",
   "execution_count": 28,
   "id": "401c7e20",
   "metadata": {},
   "outputs": [],
   "source": [
    "encoder = preprocessing.LabelEncoder()\n",
    "train_y = encoder.fit_transform(train_y)\n",
    "valid_y = encoder.fit_transform(valid_y)\n",
    "\n",
    "tfidf_vect = TfidfVectorizer(analyzer = 'word', token_pattern = r'\\w{1,}', max_features = 5000)\n",
    "tfidf_vect.fit(df['Description'])\n",
    "xtrain_tfidf = tfidf_vect.transform(train_x)\n",
    "xvalid_tfidf = tfidf_vect.transform(valid_x)"
   ]
  },
  {
   "cell_type": "markdown",
   "id": "cdde92da",
   "metadata": {},
   "source": [
    "Model building and evaluation"
   ]
  },
  {
   "cell_type": "code",
   "execution_count": 29,
   "id": "e22e5fdd",
   "metadata": {},
   "outputs": [
    {
     "name": "stdout",
     "output_type": "stream",
     "text": [
      "Accuracy:  0.6894075403949731\n"
     ]
    }
   ],
   "source": [
    "model = linear_model.LogisticRegression().fit(xtrain_tfidf, train_y)\n",
    "\n",
    "LogisticRegression (C = 1.0, class_weight = None, dual = False, fit_intercept = True,\n",
    "                    intercept_scaling = 1, max_iter = 100, multi_class = \"ovr\", n_jobs = 1,\n",
    "                    penalty = 'l2', random_state = None, solver = 'liblinear', tol = 0.0001,\n",
    "                    verbose = 0, warm_start = False)\n",
    "\n",
    "accuracy = metrics.accuracy_score (model.predict (xvalid_tfidf), valid_y)\n",
    "print(\"Accuracy: \", accuracy)"
   ]
  },
  {
   "cell_type": "markdown",
   "id": "7a069e2f",
   "metadata": {},
   "source": [
    "Print classification report"
   ]
  },
  {
   "cell_type": "code",
   "execution_count": 31,
   "id": "623baae1",
   "metadata": {},
   "outputs": [
    {
     "name": "stdout",
     "output_type": "stream",
     "text": [
      "              precision    recall  f1-score   support\n",
      "\n",
      "      Closed       0.59      0.88      0.70       170\n",
      "        Open       0.38      0.18      0.25        82\n",
      "      Solved       0.71      0.11      0.19        45\n",
      "     Pending       0.84      0.83      0.83       260\n",
      "\n",
      "    accuracy                           0.69       557\n",
      "   macro avg       0.63      0.50      0.49       557\n",
      "weighted avg       0.68      0.69      0.65       557\n",
      "\n"
     ]
    }
   ],
   "source": [
    "print(metrics.classification_report (valid_y, model.predict (xvalid_tfidf),\n",
    "                                     target_names = df['Status'].unique ()))"
   ]
  },
  {
   "cell_type": "markdown",
   "id": "94edf227",
   "metadata": {},
   "source": [
    "Prediction example"
   ]
  },
  {
   "cell_type": "code",
   "execution_count": 33,
   "id": "5991bdb7",
   "metadata": {},
   "outputs": [
    {
     "name": "stdout",
     "output_type": "stream",
     "text": [
      "['Comcast solved my problem.']\n",
      "  - Predicted as: 'Closed'\n"
     ]
    }
   ],
   "source": [
    "category_id_df = df[['Status', \"category_id\"]].drop_duplicates().sort_values('category_id')\n",
    "category_to_id = dict(category_id_df.values)\n",
    "id_to_category = dict(category_id_df[['category_id', 'Status']].values)\n",
    "\n",
    "# prediction example\n",
    "text = ['Comcast solved my problem.']\n",
    "text_features = tfidf_vect.transform (text)\n",
    "predictions = model.predict (text_features)\n",
    "print (text)\n",
    "print (\"  - Predicted as: '{}'\".format (id_to_category[predictions[0]]))"
   ]
  },
  {
   "cell_type": "code",
   "execution_count": null,
   "id": "dd81a1c7",
   "metadata": {},
   "outputs": [],
   "source": []
  }
 ],
 "metadata": {
  "kernelspec": {
   "display_name": "Python 3 (ipykernel)",
   "language": "python",
   "name": "python3"
  },
  "language_info": {
   "codemirror_mode": {
    "name": "ipython",
    "version": 3
   },
   "file_extension": ".py",
   "mimetype": "text/x-python",
   "name": "python",
   "nbconvert_exporter": "python",
   "pygments_lexer": "ipython3",
   "version": "3.10.9"
  }
 },
 "nbformat": 4,
 "nbformat_minor": 5
}
